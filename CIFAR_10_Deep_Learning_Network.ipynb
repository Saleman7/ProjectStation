{
  "nbformat": 4,
  "nbformat_minor": 0,
  "metadata": {
    "colab": {
      "provenance": [],
      "gpuType": "A100",
      "machine_shape": "hm",
      "cell_execution_strategy": "setup"
    },
    "kernelspec": {
      "name": "python3",
      "display_name": "Python 3"
    },
    "language_info": {
      "name": "python"
    },
    "accelerator": "GPU"
  },
  "cells": [
    {
      "cell_type": "markdown",
      "source": [
        "# *Deep Learning and Neural Networks - Coursework*\n",
        "\n",
        "Author: Oliver Payne\n",
        "\n",
        "ID: 200269948"
      ],
      "metadata": {
        "id": "39lvYNljOhnS"
      }
    },
    {
      "cell_type": "markdown",
      "source": [
        "# Import Python Packages and Other functionalities"
      ],
      "metadata": {
        "id": "w7khIVu4eoRb"
      }
    },
    {
      "cell_type": "code",
      "source": [
        "%matplotlib inline\n",
        "\n",
        "# Prevents PyTorch hogging too much memory\n",
        "import os\n",
        "os.environ[\"PYTORCH_CUDA_ALLOC_CONF\"] = \"expandable_segments:True\"\n",
        "\n",
        "import torch\n",
        "import matplotlib.pyplot as plt\n",
        "import numpy as np\n",
        "import torchvision\n",
        "import time\n",
        "\n",
        "from keras.datasets import cifar10\n",
        "\n",
        "\n",
        "# check if CUDA is available\n",
        "gpu = torch.cuda.is_available()\n",
        "if gpu == True:\n",
        "    print('GPU is available!  Running on GPU ...')\n",
        "else:\n",
        "    print('GPU is not available.  Running on CPU ...')\n",
        "\n",
        "\n",
        "# Set device\n",
        "device = torch.device('cuda' if torch.cuda.is_available() else 'cpu')\n",
        "print(f'Using {device}.')"
      ],
      "metadata": {
        "id": "TAnU_9TU0_St",
        "colab": {
          "base_uri": "https://localhost:8080/"
        },
        "outputId": "7323e52d-813f-4b59-ef46-1c7381d65d7c"
      },
      "execution_count": null,
      "outputs": [
        {
          "output_type": "stream",
          "name": "stdout",
          "text": [
            "GPU is available!  Running on GPU ...\n",
            "Using cuda.\n"
          ]
        }
      ]
    },
    {
      "cell_type": "markdown",
      "source": [
        "# Load the Dataset"
      ],
      "metadata": {
        "id": "QUiHKemqUhNA"
      }
    },
    {
      "cell_type": "code",
      "execution_count": null,
      "metadata": {
        "id": "wxUppSPBOaQ7"
      },
      "outputs": [],
      "source": [
        "def load_cifar10(batch_size, resize=None):\n",
        "    \"\"\"Download the CIFAR-10 dataset and then load it into memory.\"\"\"\n",
        "    trans = [torchvision.transforms.ToTensor()]\n",
        "    if resize:\n",
        "        trans.insert(0, torchvision.transforms.Resize(resize))\n",
        "\n",
        "    # Normalize the dataset using the mean and standard deviation for CIFAR-10.\n",
        "    trans.append(torchvision.transforms.Normalize((0.5, 0.5, 0.5), (0.5, 0.5, 0.5)))\n",
        "    trans = torchvision.transforms.Compose(trans)\n",
        "\n",
        "    # Load the cifar10 dataset for training\n",
        "    cifar10_train = torchvision.datasets.CIFAR10(root=\"./data\", train=True,\n",
        "                                                 transform=trans, download=True)\n",
        "    # Load the cifar10 dataset for testing\n",
        "    cifar10_test = torchvision.datasets.CIFAR10(root=\"./data\", train=False,\n",
        "                                                transform=trans, download=True)\n",
        "\n",
        "    # Load the datasets into pinned memory\n",
        "    train_CIFAR10 = torch.utils.data.DataLoader(cifar10_train, batch_size, shuffle=True, num_workers=2, pin_memory=True)\n",
        "    test_CIFAR10  = torch.utils.data.DataLoader(cifar10_test, batch_size, shuffle=False, num_workers=2, pin_memory=True)\n",
        "\n",
        "    return train_CIFAR10, test_CIFAR10"
      ]
    },
    {
      "cell_type": "code",
      "source": [
        "# Define the batch size\n",
        "batch_size = 128\n",
        "\n",
        "# Create Training and Test datasets\n",
        "train_iter, test_iter = load_cifar10(batch_size)"
      ],
      "metadata": {
        "colab": {
          "base_uri": "https://localhost:8080/"
        },
        "id": "6WgIlQuoq8eR",
        "outputId": "c0d8733b-6f9f-40ed-80e7-bd48856b8b85"
      },
      "execution_count": null,
      "outputs": [
        {
          "output_type": "stream",
          "name": "stdout",
          "text": [
            "Files already downloaded and verified\n",
            "Files already downloaded and verified\n"
          ]
        }
      ]
    },
    {
      "cell_type": "code",
      "source": [
        "# Requests the first training batch and shows its size\n",
        "# Size should show batch size (e.g, 128) of b images represented by a tensor of shape 3 x 224 x 224\n",
        "X, y = next(iter(train_iter))\n",
        "print(X.size())\n",
        "print(y.size())\n",
        "print(\"\")"
      ],
      "metadata": {
        "colab": {
          "base_uri": "https://localhost:8080/"
        },
        "id": "50EnGlf2rz78",
        "outputId": "8edaf21f-2680-4104-9036-8661f6e34368"
      },
      "execution_count": null,
      "outputs": [
        {
          "output_type": "stream",
          "name": "stderr",
          "text": [
            "/usr/lib/python3.10/multiprocessing/popen_fork.py:66: RuntimeWarning: os.fork() was called. os.fork() is incompatible with multithreaded code, and JAX is multithreaded, so this will likely lead to a deadlock.\n",
            "  self.pid = os.fork()\n"
          ]
        },
        {
          "output_type": "stream",
          "name": "stdout",
          "text": [
            "torch.Size([128, 3, 32, 32])\n",
            "torch.Size([128])\n",
            "\n"
          ]
        }
      ]
    },
    {
      "cell_type": "markdown",
      "source": [
        "# Intermediate Block"
      ],
      "metadata": {
        "id": "qiZCIFSEgBUA"
      }
    },
    {
      "cell_type": "code",
      "source": [
        "'''\n",
        "class IntermediateBlock(torch.nn.Module):\n",
        "    def __init__(self, input_channels, output_channels, num_layers =  3, stride =  1, kernel_size =  3):\n",
        "        super(IntermediateBlock, self).__init__()\n",
        "\n",
        "        # Calculate Padding\n",
        "        p = (kernel_size - 1) // 2\n",
        "\n",
        "        # Defines a dynamic number of convolutional layers.\n",
        "        self.convs = torch.nn.ModuleList([\n",
        "            torch.nn.Conv2d(input_channels, output_channels, kernel_size, padding = p, stride = stride)\n",
        "            for layer in range(num_layers)\n",
        "        ])\n",
        "        self.bns = torch.nn.ModuleList([\n",
        "            torch.nn.BatchNorm2d(output_channels)\n",
        "            for _ in range(num_layers)\n",
        "        ])\n",
        "\n",
        "        self.relu = torch.nn.ReLU()\n",
        "\n",
        "        self.global_avg_pool = torch.nn.AdaptiveAvgPool2d((1, 1))\n",
        "        # This linear layer outputs a vector of size `num_layers`\n",
        "        self.connected_a = torch.nn.Linear(input_channels, num_layers)\n",
        "\n",
        "    def forward(self, x):\n",
        "        m = self.global_avg_pool(x)\n",
        "        m = m.view(x.size(0), -1)\n",
        "\n",
        "        a = self.connected_a(m)\n",
        "        a = torch.sigmoid(a)  # Ensure a is in the range [0, 1]\n",
        "        a = a.unsqueeze(-1).unsqueeze(-1)  # Reshape for broadcasting: [batch_size, num_layers, 1, 1]\n",
        "\n",
        "        outputs = []\n",
        "        # For each conv layer in num_layers.\n",
        "        for i, (conv, bn) in enumerate(zip(self.convs, self.bns)):\n",
        "\n",
        "\n",
        "            out = torch.nn.functional.relu(bn(conv(x)))\n",
        "\n",
        "            # Apply scaling factor 'a' corresponding to each convolutional output\n",
        "            # Select the i-th element of 'a' for each sample in the batch and apply it\n",
        "            out = out * a[:, i:i+1, :, :]\n",
        "            outputs.append(out)\n",
        "\n",
        "        # Sum the scaled outputs to produce the final output of the block\n",
        "        out = sum(outputs)\n",
        "\n",
        "        return out\n",
        "'''"
      ],
      "metadata": {
        "id": "Lmu6pZRP6ACr",
        "colab": {
          "base_uri": "https://localhost:8080/",
          "height": 90
        },
        "outputId": "7cddaf64-a6de-48d2-d982-c7b955fcefcf"
      },
      "execution_count": null,
      "outputs": [
        {
          "output_type": "execute_result",
          "data": {
            "text/plain": [
              "\"\\nclass IntermediateBlock(torch.nn.Module):\\n    def __init__(self, input_channels, output_channels, num_layers =  3, stride =  1, kernel_size =  3):\\n        super(IntermediateBlock, self).__init__()\\n\\n        # Calculate Padding\\n        p = (kernel_size - 1) // 2\\n\\n        # Defines a dynamic number of convolutional layers.\\n        self.convs = torch.nn.ModuleList([\\n            torch.nn.Conv2d(input_channels, output_channels, kernel_size, padding = p, stride = stride)\\n            for layer in range(num_layers)\\n        ])\\n        self.bns = torch.nn.ModuleList([\\n            torch.nn.BatchNorm2d(output_channels)\\n            for _ in range(num_layers)\\n        ])\\n\\n        self.relu = torch.nn.ReLU()\\n\\n        self.global_avg_pool = torch.nn.AdaptiveAvgPool2d((1, 1))\\n        # This linear layer outputs a vector of size `num_layers`\\n        self.connected_a = torch.nn.Linear(input_channels, num_layers)\\n\\n    def forward(self, x):\\n        m = self.global_avg_pool(x)\\n        m = m.view(x.size(0), -1)\\n\\n        a = self.connected_a(m)\\n        a = torch.sigmoid(a)  # Ensure a is in the range [0, 1]\\n        a = a.unsqueeze(-1).unsqueeze(-1)  # Reshape for broadcasting: [batch_size, num_layers, 1, 1]\\n\\n        outputs = []\\n        # For each conv layer in num_layers.\\n        for i, (conv, bn) in enumerate(zip(self.convs, self.bns)):\\n\\n          \\n            out = torch.nn.functional.relu(bn(conv(x)))\\n\\n            # Apply scaling factor 'a' corresponding to each convolutional output\\n            # Select the i-th element of 'a' for each sample in the batch and apply it\\n            out = out * a[:, i:i+1, :, :]\\n            outputs.append(out)\\n\\n        # Sum the scaled outputs to produce the final output of the block\\n        out = sum(outputs)\\n\\n        return out\\n\""
            ],
            "application/vnd.google.colaboratory.intrinsic+json": {
              "type": "string"
            }
          },
          "metadata": {},
          "execution_count": 5
        }
      ]
    },
    {
      "cell_type": "code",
      "source": [
        "class IntermediateBlock(torch.nn.Module):\n",
        "    def __init__(self, input_channels, output_channels, num_layers =  3, stride =  1, kernel_size =  3):\n",
        "        super(IntermediateBlock, self).__init__()\n",
        "\n",
        "        # Calculate Padding\n",
        "        p = (kernel_size - 1) // 2\n",
        "\n",
        "\n",
        "        # Defines a dynamic number of convolutional layers.\n",
        "        self.convs = torch.nn.ModuleList([\n",
        "            torch.nn.Conv2d(input_channels, output_channels, kernel_size, padding = p, stride = stride)\n",
        "            for layer in range(num_layers)\n",
        "        ])\n",
        "        # Define dynamic number of batch normalisations (same as conv layer)\n",
        "        self.bns = torch.nn.ModuleList([\n",
        "            torch.nn.BatchNorm2d(output_channels)\n",
        "            for _ in range(num_layers)\n",
        "        ])\n",
        "\n",
        "        # Activation Layer and pooling\n",
        "        self.relu = torch.nn.ReLU()\n",
        "        self.global_avg_pool = torch.nn.AdaptiveAvgPool2d((1, 1))\n",
        "\n",
        "        # Linear layer outputs a vector of size `num_layers` for \"a\"\n",
        "        self.connected_a = torch.nn.Linear(input_channels, num_layers)\n",
        "\n",
        "    def forward(self, x):\n",
        "        # Get m\n",
        "        m = self.global_avg_pool(x)\n",
        "        m = m.view(x.size(0), -1)\n",
        "\n",
        "        # Get a\n",
        "        a = self.connected_a(m)\n",
        "        a = torch.sigmoid(a)  # Ensure a is in the range [0, 1]\n",
        "        a = a.unsqueeze(-1).unsqueeze(-1)  # Reshape for broadcasting: [batch_size, num_layers, 1, 1]\n",
        "\n",
        "        outputs = []\n",
        "        # For each conv layer in num_layers.\n",
        "        for i, (conv, bn) in enumerate(zip(self.convs, self.bns)):\n",
        "\n",
        "            out = conv(x)\n",
        "            out = bn(out)\n",
        "            out = self.relu(out)\n",
        "\n",
        "            # Apply scaling factor 'a' corresponding to each convolutional output\n",
        "            # Select the i-th element of 'a' for each sample in the batch and apply it\n",
        "            out = out * a[:, i:i+1, :, :]\n",
        "            outputs.append(out)\n",
        "\n",
        "        # Sum the scaled outputs to produce the final output of the block\n",
        "        out = sum(outputs)\n",
        "\n",
        "        return out"
      ],
      "metadata": {
        "id": "I32d-MiG_AL9"
      },
      "execution_count": null,
      "outputs": []
    },
    {
      "cell_type": "markdown",
      "source": [
        "# Output Block"
      ],
      "metadata": {
        "id": "gx3ODYYygFE-"
      }
    },
    {
      "cell_type": "code",
      "source": [
        "class OutputBlock(torch.nn.Module):\n",
        "    def __init__(self, input_channels, num_outputs):\n",
        "        super(OutputBlock, self).__init__()\n",
        "\n",
        "        # Define Average Pooling to flatten convolutions\n",
        "        self.global_avg_pool = torch.nn.AdaptiveAvgPool2d((1, 1))\n",
        "\n",
        "        # Defines interconnected linear layers\n",
        "        self.linear1 = torch.nn.Linear(input_channels, input_channels * 2)\n",
        "        self.linear2 = torch.nn.Linear(input_channels * 2, 4096)\n",
        "        self.linear3 = torch.nn.Linear(4096, 1024)\n",
        "        self.linear4 = torch.nn.Linear(1024, num_outputs)\n",
        "\n",
        "        # Define dropout layer\n",
        "        self.dropout = torch.nn.Dropout(0.2)\n",
        "\n",
        "        self.relu = torch.nn.ReLU()\n",
        "\n",
        "\n",
        "    def forward(self, x):\n",
        "        m = self.global_avg_pool(x).view(x.size(0), -1)\n",
        "\n",
        "        out = self.linear1(m)\n",
        "        out = self.relu(out)\n",
        "        out = self.dropout(out)\n",
        "\n",
        "        out = self.linear2(out)\n",
        "        out = self.relu(out)\n",
        "        out = self.dropout(out)\n",
        "\n",
        "        out = self.linear3(out)\n",
        "        out = self.relu(out)\n",
        "        out = self.dropout(out)\n",
        "\n",
        "        out = self.linear4(out)\n",
        "\n",
        "        return out\n"
      ],
      "metadata": {
        "id": "hn-sNYeqCnvB"
      },
      "execution_count": null,
      "outputs": []
    },
    {
      "cell_type": "markdown",
      "source": [
        "\n",
        "# CNN implementation"
      ],
      "metadata": {
        "id": "D67TctuvgH65"
      }
    },
    {
      "cell_type": "code",
      "source": [
        "'''\n",
        "class WyrdNet(torch.nn.Module):\n",
        "    def __init__(self, num_outputs):\n",
        "        super(WyrdNet, self).__init__()\n",
        "\n",
        "        s = 1\n",
        "\n",
        "        # Convolutional Intermediate blocks\n",
        "        self.intblock1 = IntermediateBlock(3, 128, stride = s,  num_layers =  3,  kernel_size = 3)\n",
        "        self.intblock2 = IntermediateBlock(128, 256, stride = s, num_layers =  3, kernel_size = 3)\n",
        "\n",
        "        self.batchnorm1 = torch.nn.BatchNorm2d(256)\n",
        "        self.relu = torch.nn.ReLU()\n",
        "\n",
        "        self.intblock3 = IntermediateBlock(256, 1024, stride = s, num_layers =  3, kernel_size = 3)\n",
        "        self.intblock4 = IntermediateBlock(1024, 1024, stride = s, num_layers =  3, kernel_size = 7)\n",
        "        self.intblock5 = IntermediateBlock(1024, 512, stride = s, num_layers =  3, kernel_size = 5)\n",
        "\n",
        "        self.batchnorm2 = torch.nn.BatchNorm2d(512)\n",
        "\n",
        "\n",
        "        # Activation\n",
        "        self.relu = torch.nn.ReLU()\n",
        "\n",
        "        # Pooling layers\n",
        "        self.maxpool = torch.nn.MaxPool2d(2,2)\n",
        "\n",
        "        # Dropout Layer\n",
        "        self.dropout = torch.nn.Dropout(0.2)\n",
        "\n",
        "        # Out Layer\n",
        "        self.outblock = OutputBlock(512, num_outputs)\n",
        "\n",
        "\n",
        "    def forward(self, x):\n",
        "\n",
        "        out = self.intblock1(x)\n",
        "        out = self.relu(out)\n",
        "        out = self.dropout(out)  # Apply dropout after activation\n",
        "        out = self.maxpool(out)\n",
        "\n",
        "        out = self.intblock2(out)\n",
        "        out = self.batchnorm1(out)\n",
        "        out = self.relu(out)\n",
        "        out = self.dropout(out)  # Apply dropout after activation\n",
        "        out = self.maxpool(out)\n",
        "\n",
        "        out = self.intblock3(out)\n",
        "        out = self.intblock4(out)\n",
        "        out = self.intblock5(out)\n",
        "        out = self.batchnorm2(out)\n",
        "        out = self.relu(out)\n",
        "        out = self.dropout(out)  # Apply dropout after activation\n",
        "        out = self.maxpool(out)\n",
        "\n",
        "        out = self.outblock(out)\n",
        "\n",
        "        return out\n",
        "'''"
      ],
      "metadata": {
        "id": "9U2hBY5JNF6w",
        "colab": {
          "base_uri": "https://localhost:8080/",
          "height": 90
        },
        "outputId": "293cf600-6510-42a0-fdd2-6dfc3df80d26"
      },
      "execution_count": null,
      "outputs": [
        {
          "output_type": "execute_result",
          "data": {
            "text/plain": [
              "'\\nclass WyrdNet(torch.nn.Module):\\n    def __init__(self, num_outputs):\\n        super(WyrdNet, self).__init__()\\n\\n        s = 1\\n\\n        # Convolutional Intermediate blocks\\n        self.intblock1 = IntermediateBlock(3, 128, stride = s,  num_layers =  3,  kernel_size = 3)\\n        self.intblock2 = IntermediateBlock(128, 256, stride = s, num_layers =  3, kernel_size = 3)\\n\\n        self.batchnorm1 = torch.nn.BatchNorm2d(256)\\n        self.relu = torch.nn.ReLU()\\n\\n        self.intblock3 = IntermediateBlock(256, 1024, stride = s, num_layers =  3, kernel_size = 3)\\n        self.intblock4 = IntermediateBlock(1024, 1024, stride = s, num_layers =  3, kernel_size = 7)\\n        self.intblock5 = IntermediateBlock(1024, 512, stride = s, num_layers =  3, kernel_size = 5)\\n\\n        self.batchnorm2 = torch.nn.BatchNorm2d(512)\\n\\n\\n        # Activation\\n        self.relu = torch.nn.ReLU()\\n\\n        # Pooling layers\\n        self.maxpool = torch.nn.MaxPool2d(2,2)\\n\\n        # Dropout Layer\\n        self.dropout = torch.nn.Dropout(0.2)\\n\\n        # Out Layer\\n        self.outblock = OutputBlock(512, num_outputs)\\n\\n\\n    def forward(self, x):\\n\\n        out = self.intblock1(x)\\n        out = self.relu(out)\\n        out = self.dropout(out)  # Apply dropout after activation\\n        out = self.maxpool(out)\\n\\n        out = self.intblock2(out)\\n        out = self.batchnorm1(out)\\n        out = self.relu(out)\\n        out = self.dropout(out)  # Apply dropout after activation\\n        out = self.maxpool(out)\\n\\n        out = self.intblock3(out)\\n        out = self.intblock4(out)\\n        out = self.intblock5(out)\\n        out = self.batchnorm2(out)\\n        out = self.relu(out)\\n        out = self.dropout(out)  # Apply dropout after activation\\n        out = self.maxpool(out)\\n\\n        out = self.outblock(out)\\n\\n        return out\\n'"
            ],
            "application/vnd.google.colaboratory.intrinsic+json": {
              "type": "string"
            }
          },
          "metadata": {},
          "execution_count": 8
        }
      ]
    },
    {
      "cell_type": "code",
      "source": [
        "class WyrdNet(torch.nn.Module):\n",
        "    def __init__(self, num_outputs):\n",
        "        super(WyrdNet, self).__init__()\n",
        "\n",
        "        self.intblock1 = IntermediateBlock(3, 128, num_layers=3, kernel_size=3)\n",
        "        self.intblock2 = IntermediateBlock(128, 256, num_layers=3, kernel_size=3)\n",
        "\n",
        "        self.batchnorm1 = torch.nn.BatchNorm2d(256)\n",
        "        self.relu = torch.nn.ReLU()\n",
        "\n",
        "        self.intblock3 = IntermediateBlock(256, 1024, num_layers=3, kernel_size=3)\n",
        "        self.intblock4 = IntermediateBlock(1024, 1024, num_layers=3, kernel_size=7)\n",
        "\n",
        "        self.batchnorm2 = torch.nn.BatchNorm2d(1024)\n",
        "        self.relu = torch.nn.ReLU()\n",
        "\n",
        "        self.intblock5 = IntermediateBlock(1024, 2048, num_layers=3, kernel_size=5)\n",
        "        self.intblock6 = IntermediateBlock(2048, 512, num_layers=3, kernel_size=5)\n",
        "\n",
        "        self.batchnorm3 = torch.nn.BatchNorm2d(512)\n",
        "        self.relu = torch.nn.ReLU()\n",
        "\n",
        "        # Defines Maxpoooling and dropout layers\n",
        "        self.maxpool = torch.nn.MaxPool2d(2, 2)\n",
        "        self.dropout = torch.nn.Dropout(0.2)\n",
        "        self.avgpool = torch.nn.AvgPool2d(8, 8)\n",
        "\n",
        "        # Defines outblock call\n",
        "        self.outblock = OutputBlock(512, num_outputs)\n",
        "\n",
        "        # 1x1 convolution to adjust channel dimensions for skip connection\n",
        "        self.adjust_channels = torch.nn.Conv2d(3, 512, 1)\n",
        "\n",
        "\n",
        "\n",
        "\n",
        "    def forward(self, x):\n",
        "\n",
        "        # Macro Block 1\n",
        "        out = self.intblock1(x)\n",
        "        out = self.intblock2(out)\n",
        "\n",
        "        out = self.batchnorm1(out)\n",
        "        out = self.relu(out)\n",
        "        out = self.dropout(out)\n",
        "        out = self.maxpool(out)\n",
        "\n",
        "        # Macro Block 2\n",
        "        out = self.intblock3(out)\n",
        "        out = self.intblock4(out)\n",
        "\n",
        "        out = self.batchnorm2(out)\n",
        "        out = self.relu(out)\n",
        "        out = self.dropout(out)\n",
        "        out = self.maxpool(out)\n",
        "\n",
        "        # Macro Block 3\n",
        "        out = self.intblock5(out)\n",
        "        out = self.intblock6(out)\n",
        "\n",
        "        out = self.batchnorm3(out)\n",
        "        out = self.relu(out)\n",
        "        out = self.dropout(out)\n",
        "        out = self.maxpool(out)\n",
        "\n",
        "\n",
        "        # Employ Skip Connection\n",
        "        skip_connection = self.adjust_channels(x)\n",
        "        skip_connection = self.avgpool(skip_connection)\n",
        "        out += skip_connection  # Add the skip connection before the final output layer\n",
        "\n",
        "        out = self.outblock(out)\n",
        "\n",
        "        return out"
      ],
      "metadata": {
        "id": "pU4av9uwONr5"
      },
      "execution_count": null,
      "outputs": []
    },
    {
      "cell_type": "markdown",
      "source": [
        "Model creation and weight initialisation"
      ],
      "metadata": {
        "id": "Z9JTPrIOgZwh"
      }
    },
    {
      "cell_type": "code",
      "source": [
        "# Applies Xavier initialization if the `torch.nn.Module` is `torch.nn.Linear` or `torch.nn.Conv2d`\n",
        "def init_weights(m):\n",
        "    if type(m) == torch.nn.Linear or type(m) == torch.nn.Conv2d:\n",
        "        torch.nn.init.xavier_uniform_(m.weight)\n",
        "\n",
        "num_outputs = 10\n",
        "\n",
        "model = WyrdNet(10).to(device) # Creates and moves the model to `device`\n",
        "\n",
        "model.apply(init_weights) # Applies `init_weights` to every `torch.nn.Module` inside `model`"
      ],
      "metadata": {
        "colab": {
          "base_uri": "https://localhost:8080/"
        },
        "id": "jKgV0e0zgZJu",
        "outputId": "d64af036-ef42-4a06-8b05-053e8a0b54a1"
      },
      "execution_count": null,
      "outputs": [
        {
          "output_type": "execute_result",
          "data": {
            "text/plain": [
              "WyrdNet(\n",
              "  (intblock1): IntermediateBlock(\n",
              "    (convs): ModuleList(\n",
              "      (0-2): 3 x Conv2d(3, 128, kernel_size=(3, 3), stride=(1, 1), padding=(1, 1))\n",
              "    )\n",
              "    (bns): ModuleList(\n",
              "      (0-2): 3 x BatchNorm2d(128, eps=1e-05, momentum=0.1, affine=True, track_running_stats=True)\n",
              "    )\n",
              "    (relu): ReLU()\n",
              "    (global_avg_pool): AdaptiveAvgPool2d(output_size=(1, 1))\n",
              "    (connected_a): Linear(in_features=3, out_features=3, bias=True)\n",
              "  )\n",
              "  (intblock2): IntermediateBlock(\n",
              "    (convs): ModuleList(\n",
              "      (0-2): 3 x Conv2d(128, 256, kernel_size=(3, 3), stride=(1, 1), padding=(1, 1))\n",
              "    )\n",
              "    (bns): ModuleList(\n",
              "      (0-2): 3 x BatchNorm2d(256, eps=1e-05, momentum=0.1, affine=True, track_running_stats=True)\n",
              "    )\n",
              "    (relu): ReLU()\n",
              "    (global_avg_pool): AdaptiveAvgPool2d(output_size=(1, 1))\n",
              "    (connected_a): Linear(in_features=128, out_features=3, bias=True)\n",
              "  )\n",
              "  (batchnorm1): BatchNorm2d(256, eps=1e-05, momentum=0.1, affine=True, track_running_stats=True)\n",
              "  (relu): ReLU()\n",
              "  (intblock3): IntermediateBlock(\n",
              "    (convs): ModuleList(\n",
              "      (0-2): 3 x Conv2d(256, 1024, kernel_size=(3, 3), stride=(1, 1), padding=(1, 1))\n",
              "    )\n",
              "    (bns): ModuleList(\n",
              "      (0-2): 3 x BatchNorm2d(1024, eps=1e-05, momentum=0.1, affine=True, track_running_stats=True)\n",
              "    )\n",
              "    (relu): ReLU()\n",
              "    (global_avg_pool): AdaptiveAvgPool2d(output_size=(1, 1))\n",
              "    (connected_a): Linear(in_features=256, out_features=3, bias=True)\n",
              "  )\n",
              "  (intblock4): IntermediateBlock(\n",
              "    (convs): ModuleList(\n",
              "      (0-2): 3 x Conv2d(1024, 1024, kernel_size=(7, 7), stride=(1, 1), padding=(3, 3))\n",
              "    )\n",
              "    (bns): ModuleList(\n",
              "      (0-2): 3 x BatchNorm2d(1024, eps=1e-05, momentum=0.1, affine=True, track_running_stats=True)\n",
              "    )\n",
              "    (relu): ReLU()\n",
              "    (global_avg_pool): AdaptiveAvgPool2d(output_size=(1, 1))\n",
              "    (connected_a): Linear(in_features=1024, out_features=3, bias=True)\n",
              "  )\n",
              "  (batchnorm2): BatchNorm2d(1024, eps=1e-05, momentum=0.1, affine=True, track_running_stats=True)\n",
              "  (intblock5): IntermediateBlock(\n",
              "    (convs): ModuleList(\n",
              "      (0-2): 3 x Conv2d(1024, 2048, kernel_size=(5, 5), stride=(1, 1), padding=(2, 2))\n",
              "    )\n",
              "    (bns): ModuleList(\n",
              "      (0-2): 3 x BatchNorm2d(2048, eps=1e-05, momentum=0.1, affine=True, track_running_stats=True)\n",
              "    )\n",
              "    (relu): ReLU()\n",
              "    (global_avg_pool): AdaptiveAvgPool2d(output_size=(1, 1))\n",
              "    (connected_a): Linear(in_features=1024, out_features=3, bias=True)\n",
              "  )\n",
              "  (intblock6): IntermediateBlock(\n",
              "    (convs): ModuleList(\n",
              "      (0-2): 3 x Conv2d(2048, 512, kernel_size=(5, 5), stride=(1, 1), padding=(2, 2))\n",
              "    )\n",
              "    (bns): ModuleList(\n",
              "      (0-2): 3 x BatchNorm2d(512, eps=1e-05, momentum=0.1, affine=True, track_running_stats=True)\n",
              "    )\n",
              "    (relu): ReLU()\n",
              "    (global_avg_pool): AdaptiveAvgPool2d(output_size=(1, 1))\n",
              "    (connected_a): Linear(in_features=2048, out_features=3, bias=True)\n",
              "  )\n",
              "  (batchnorm3): BatchNorm2d(512, eps=1e-05, momentum=0.1, affine=True, track_running_stats=True)\n",
              "  (maxpool): MaxPool2d(kernel_size=2, stride=2, padding=0, dilation=1, ceil_mode=False)\n",
              "  (dropout): Dropout(p=0.2, inplace=False)\n",
              "  (outblock): OutputBlock(\n",
              "    (global_avg_pool): AdaptiveAvgPool2d(output_size=(1, 1))\n",
              "    (linear1): Linear(in_features=512, out_features=1024, bias=True)\n",
              "    (linear2): Linear(in_features=1024, out_features=4096, bias=True)\n",
              "    (linear3): Linear(in_features=4096, out_features=1024, bias=True)\n",
              "    (linear4): Linear(in_features=1024, out_features=10, bias=True)\n",
              "    (dropout): Dropout(p=0.2, inplace=False)\n",
              "    (relu): ReLU()\n",
              "  )\n",
              "  (adjust_channels): Conv2d(3, 512, kernel_size=(1, 1), stride=(1, 1))\n",
              "  (avgpool): AvgPool2d(kernel_size=8, stride=8, padding=0)\n",
              ")"
            ]
          },
          "metadata": {},
          "execution_count": 10
        }
      ]
    },
    {
      "cell_type": "markdown",
      "source": [
        "# Loss Function"
      ],
      "metadata": {
        "id": "78GjkzrTf65M"
      }
    },
    {
      "cell_type": "code",
      "source": [
        "loss = torch.nn.CrossEntropyLoss()"
      ],
      "metadata": {
        "id": "swxriOJ0f6q1"
      },
      "execution_count": null,
      "outputs": []
    },
    {
      "cell_type": "markdown",
      "source": [
        "# Optimisation Algorithm"
      ],
      "metadata": {
        "id": "8pm4kdbkfyDX"
      }
    },
    {
      "cell_type": "code",
      "source": [
        "# Learning rate\n",
        "lr = 0.05\n",
        "\n",
        "# Optimiser\n",
        "optimizer = torch.optim.SGD(model.parameters(), lr=lr)"
      ],
      "metadata": {
        "id": "xvjoyM0ifxdc"
      },
      "execution_count": null,
      "outputs": []
    },
    {
      "cell_type": "markdown",
      "source": [
        "# Evaluation"
      ],
      "metadata": {
        "id": "Aia9xa5lflJV"
      }
    },
    {
      "cell_type": "code",
      "source": [
        "def correct(logits, y):\n",
        "    y_hat = logits.argmax(dim=1) # Finds the column with the highest value for each row of `logits`.\n",
        "    return (y_hat == y).float().sum() # Computes the number of times that `y_hat` and `y` match.\n",
        "\n",
        "y = torch.tensor([2, 1])\n",
        "logits = torch.tensor([[0.1, 0.3, 0.6], [0.5, 0.2, 0.3]])\n",
        "print(correct(logits, y))\n",
        "\n",
        "\n",
        "\n",
        "def evaluate_metric(model, data_iter, metric):\n",
        "    \"\"\"Compute the average `metric` of the model on a dataset.\"\"\"\n",
        "    c = 0.\n",
        "    n = 0.\n",
        "    for X, y in data_iter:\n",
        "        X, y = X.to(device), y.to(device) # Moves data to `device`\n",
        "        logits = model(X)\n",
        "        c += metric(logits, y)\n",
        "        n += len(y)\n",
        "\n",
        "    return float(c / n)\n",
        "\n",
        "model.eval() # This is necessary because batch normalization behaves differently between training and evaluation\n",
        "print(f'Training accuracy: {evaluate_metric(model, train_iter, correct)}. Testing accuracy: {evaluate_metric(model, test_iter, correct)}.')"
      ],
      "metadata": {
        "colab": {
          "base_uri": "https://localhost:8080/"
        },
        "id": "jYswseVmfnhd",
        "outputId": "e64c8f79-f410-4946-a7f9-acfc6e55dc75"
      },
      "execution_count": null,
      "outputs": [
        {
          "output_type": "stream",
          "name": "stdout",
          "text": [
            "tensor(1.)\n",
            "Training accuracy: 0.0870399996638298. Testing accuracy: 0.08699999749660492.\n"
          ]
        }
      ]
    },
    {
      "cell_type": "markdown",
      "source": [
        "# Training"
      ],
      "metadata": {
        "id": "q5oGsyWsUaYN"
      }
    },
    {
      "cell_type": "code",
      "source": [
        "# Setup\n",
        "losses = []  # Stores the loss for each training batch\n",
        "train_accs = []  # Stores the training accuracy after each epoch\n",
        "test_accs = []  # Stores the testing accuracy after each epoch\n",
        "\n",
        "num_epochs = 10\n",
        "patience = 3  # How many epochs to wait after last time validation loss improved.\n",
        "best_acc = 0\n",
        "epochs_no_improve = 0\n",
        "\n",
        "for epoch in range(num_epochs):\n",
        "    print(f'\\nEpoch {epoch + 1}/{num_epochs}.')\n",
        "    start_time = time.perf_counter()\n",
        "\n",
        "    model.train()  # This is necessary because batch normalization behaves differently between training and evaluation\n",
        "\n",
        "    for X, y in train_iter:\n",
        "        X, y = X.to(device), y.to(device)  # Moves data to `device`\n",
        "        logits = model(X)  # Computes the logits for the batch of images `X`\n",
        "\n",
        "        l = loss(logits, y)  # Computes the loss given the `logits` and the class vector `y`\n",
        "        optimizer.zero_grad()  # Zeroes the gradients stored in the model parameters\n",
        "        l.backward()  # Computes the gradient of the loss `l` with respect to the model parameters\n",
        "        optimizer.step()  # Updates the model parameters based on the gradients stored inside them\n",
        "\n",
        "        losses.append(float(l))  # Stores the loss for this batch\n",
        "\n",
        "    # Evaluation without gradient calculation\n",
        "    model.eval()  # Ensure the model is in evaluation mode\n",
        "    with torch.no_grad():\n",
        "        train_accuracy = evaluate_metric(model, train_iter, correct)\n",
        "        test_accuracy = evaluate_metric(model, test_iter, correct)\n",
        "        train_accs.append(train_accuracy)\n",
        "        test_accs.append(test_accuracy)\n",
        "\n",
        "    # Early stopping logic\n",
        "    if test_accuracy > best_acc:\n",
        "        best_acc = test_accuracy\n",
        "        epochs_no_improve = 0\n",
        "        torch.save(model.state_dict(), 'best_model.pth')  # Save the best model if desired\n",
        "    else:\n",
        "        epochs_no_improve += 1\n",
        "        if epochs_no_improve >= patience:\n",
        "            print(f'Early stopping triggered after {epoch + 1} epochs')\n",
        "            break\n",
        "\n",
        "    end_time = time.perf_counter()\n",
        "    print(f'Training accuracy: {train_accs[-1]}. Testing accuracy: {test_accs[-1]}. Duration: {end_time - start_time:.3f}s.')\n",
        "\n",
        "# Plotting\n",
        "plt.plot(losses)\n",
        "plt.xlabel('Training batch')\n",
        "plt.ylabel('Cross entropy loss')\n",
        "plt.show()\n",
        "\n",
        "plt.plot(train_accs, label='Training accuracy')\n",
        "plt.plot(test_accs, label='Testing accuracy')\n",
        "plt.legend(loc='best')\n",
        "plt.xlabel('Epoch')\n",
        "plt.show()"
      ],
      "metadata": {
        "id": "5OubGzoC3C5v",
        "colab": {
          "base_uri": "https://localhost:8080/",
          "height": 1000
        },
        "outputId": "98fa389b-84b4-474a-8367-b83d0577d956"
      },
      "execution_count": null,
      "outputs": [
        {
          "output_type": "stream",
          "name": "stdout",
          "text": [
            "\n",
            "Epoch 1/10.\n",
            "Training accuracy: 0.5638999938964844. Testing accuracy: 0.5546999573707581. Duration: 272.018s.\n",
            "\n",
            "Epoch 2/10.\n",
            "Training accuracy: 0.6935799717903137. Testing accuracy: 0.6694999933242798. Duration: 271.565s.\n",
            "\n",
            "Epoch 3/10.\n",
            "Training accuracy: 0.7359399795532227. Testing accuracy: 0.6984999775886536. Duration: 272.167s.\n",
            "\n",
            "Epoch 4/10.\n",
            "Training accuracy: 0.7942799925804138. Testing accuracy: 0.7425000071525574. Duration: 270.962s.\n",
            "\n",
            "Epoch 5/10.\n",
            "Training accuracy: 0.7837599515914917. Testing accuracy: 0.7210999727249146. Duration: 268.175s.\n",
            "\n",
            "Epoch 6/10.\n",
            "Training accuracy: 0.8251799941062927. Testing accuracy: 0.7542999982833862. Duration: 272.425s.\n",
            "\n",
            "Epoch 7/10.\n",
            "Training accuracy: 0.8601599931716919. Testing accuracy: 0.7742999792098999. Duration: 271.936s.\n",
            "\n",
            "Epoch 8/10.\n",
            "Training accuracy: 0.8340599536895752. Testing accuracy: 0.7364999651908875. Duration: 268.545s.\n",
            "\n",
            "Epoch 9/10.\n",
            "Training accuracy: 0.8946999907493591. Testing accuracy: 0.7770999670028687. Duration: 272.334s.\n",
            "\n",
            "Epoch 10/10.\n",
            "Training accuracy: 0.6541799902915955. Testing accuracy: 0.5762999653816223. Duration: 268.286s.\n"
          ]
        },
        {
          "output_type": "display_data",
          "data": {
            "text/plain": [
              "<Figure size 640x480 with 1 Axes>"
            ],
            "image/png": "[encoded data removed]"
          },
          "metadata": {}
        },
        {
          "output_type": "display_data",
          "data": {
            "text/plain": [
              "<Figure size 640x480 with 1 Axes>"
            ],
            "image/png": "[encoded data removed]"
          },
          "metadata": {}
        }
      ]
    },
    {
      "cell_type": "markdown",
      "source": [],
      "metadata": {
        "id": "4VFNUoQTOf3l"
      }
    },
    {
      "cell_type": "code",
      "source": [
        "num_epochs = 1\n",
        "patience = 3  # How many epochs to wait after last time validation loss improved.\n",
        "best_acc = 0\n",
        "epochs_no_improve = 0\n",
        "\n",
        "for epoch in range(num_epochs):\n",
        "    print(f'\\nEpoch {epoch + 1}/{num_epochs}.')\n",
        "    start_time = time.perf_counter()\n",
        "\n",
        "    model.train()  # This is necessary because batch normalization behaves differently between training and evaluation\n",
        "\n",
        "    for X, y in train_iter:\n",
        "        X, y = X.to(device), y.to(device)  # Moves data to `device`\n",
        "        logits = model(X)  # Computes the logits for the batch of images `X`\n",
        "\n",
        "        l = loss(logits, y)  # Computes the loss given the `logits` and the class vector `y`\n",
        "        optimizer.zero_grad()  # Zeroes the gradients stored in the model parameters\n",
        "        l.backward()  # Computes the gradient of the loss `l` with respect to the model parameters\n",
        "        optimizer.step()  # Updates the model parameters based on the gradients stored inside them\n",
        "\n",
        "        losses.append(float(l))  # Stores the loss for this batch\n",
        "\n",
        "    # Evaluation without gradient calculation\n",
        "    model.eval()  # Ensure the model is in evaluation mode\n",
        "    with torch.no_grad():\n",
        "        train_accuracy = evaluate_metric(model, train_iter, correct)\n",
        "        test_accuracy = evaluate_metric(model, test_iter, correct)\n",
        "        train_accs.append(train_accuracy)\n",
        "        test_accs.append(test_accuracy)\n",
        "\n",
        "    # Early stopping logic\n",
        "    if test_accuracy > best_acc:\n",
        "        best_acc = test_accuracy\n",
        "        epochs_no_improve = 0\n",
        "        torch.save(model.state_dict(), 'best_model.pth')  # Save the best model if desired\n",
        "    else:\n",
        "        epochs_no_improve += 1\n",
        "        if epochs_no_improve >= patience:\n",
        "            print(f'Early stopping triggered after {epoch + 1} epochs')\n",
        "            break\n",
        "\n",
        "    end_time = time.perf_counter()\n",
        "    print(f'Training accuracy: {train_accs[-1]}. Testing accuracy: {test_accs[-1]}. Duration: {end_time - start_time:.3f}s.')\n",
        "\n",
        "# Plotting\n",
        "plt.plot(losses)\n",
        "plt.xlabel('Training batch')\n",
        "plt.ylabel('Cross entropy loss')\n",
        "plt.show()\n",
        "\n",
        "plt.plot(train_accs, label='Training accuracy')\n",
        "plt.plot(test_accs, label='Testing accuracy')\n",
        "plt.legend(loc='best')\n",
        "plt.xlabel('Epoch')\n",
        "plt.show()"
      ],
      "metadata": {
        "colab": {
          "base_uri": "https://localhost:8080/",
          "height": 936
        },
        "id": "Ko39CvEeYkcM",
        "outputId": "449a41cf-e790-4ab6-a876-2f72a826ddc9"
      },
      "execution_count": null,
      "outputs": [
        {
          "output_type": "stream",
          "name": "stdout",
          "text": [
            "\n",
            "Epoch 1/1.\n",
            "Training accuracy: 0.9562199711799622. Testing accuracy: 0.821899950504303. Duration: 271.696s.\n"
          ]
        },
        {
          "output_type": "display_data",
          "data": {
            "text/plain": [
              "<Figure size 640x480 with 1 Axes>"
            ],
            "image/png": "[encoded data removed]"
          },
          "metadata": {}
        },
        {
          "output_type": "display_data",
          "data": {
            "text/plain": [
              "<Figure size 640x480 with 1 Axes>"
            ],
            "image/png": "[encoded data removed]"
          },
          "metadata": {}
        }
      ]
    }
  ]
}